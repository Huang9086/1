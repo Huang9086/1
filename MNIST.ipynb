{
  "nbformat": 4,
  "nbformat_minor": 0,
  "metadata": {
    "colab": {
      "name": "Untitled0.ipynb",
      "provenance": [],
      "collapsed_sections": [],
      "authorship_tag": "ABX9TyO2MtR/q2rhIuz4DeHO0ugq",
      "include_colab_link": true
    },
    "kernelspec": {
      "name": "python3",
      "display_name": "Python 3"
    },
    "language_info": {
      "name": "python"
    },
    "accelerator": "GPU"
  },
  "cells": [
    {
      "cell_type": "markdown",
      "metadata": {
        "id": "view-in-github",
        "colab_type": "text"
      },
      "source": [
        "<a href=\"https://colab.research.google.com/github/Huang9086/1/blob/main/MNIST.ipynb\" target=\"_parent\"><img src=\"https://colab.research.google.com/assets/colab-badge.svg\" alt=\"Open In Colab\"/></a>"
      ]
    },
    {
      "cell_type": "code",
      "metadata": {
        "id": "qnAr-dbYhgmz"
      },
      "source": [
        "import numpy as np\n",
        "from tensorflow import keras\n",
        "from tensorflow.keras import layers"
      ],
      "execution_count": 6,
      "outputs": []
    },
    {
      "cell_type": "code",
      "metadata": {
        "colab": {
          "base_uri": "https://localhost:8080/"
        },
        "id": "wRUOSXdwhuyv",
        "outputId": "4e5849c5-4726-4f1c-b096-c8fa2f9c18ca"
      },
      "source": [
        "num_classes = 10\n",
        "input_shape = (28, 28, 1)\n",
        "\n",
        "# the data, split between train and test sets\n",
        "(x_train, y_train), (x_test, y_test) = keras.datasets.mnist.load_data()\n",
        "\n",
        "# Scale images to the [0, 1] range\n",
        "x_train = x_train.astype(\"float32\") / 255\n",
        "x_test = x_test.astype(\"float32\") / 255\n",
        "# Make sure images have shape (28, 28, 1)\n",
        "x_train = np.expand_dims(x_train, -1)\n",
        "x_test = np.expand_dims(x_test, -1)\n",
        "print(\"x_train shape:\", x_train.shape)\n",
        "print(x_train.shape[0], \"train samples\")\n",
        "print(x_test.shape[0], \"test samples\")\n",
        "\n",
        "\n",
        "# convert class vectors to binary class matrices\n",
        "y_train = keras.utils.to_categorical(y_train, num_classes)\n",
        "y_test = keras.utils.to_categorical(y_test, num_classes)"
      ],
      "execution_count": 7,
      "outputs": [
        {
          "output_type": "stream",
          "text": [
            "x_train shape: (60000, 28, 28, 1)\n",
            "60000 train samples\n",
            "10000 test samples\n"
          ],
          "name": "stdout"
        }
      ]
    },
    {
      "cell_type": "code",
      "metadata": {
        "colab": {
          "base_uri": "https://localhost:8080/"
        },
        "id": "9l867k0ah19P",
        "outputId": "0ad2b558-aa69-406c-ae62-dd281a99fdc4"
      },
      "source": [
        "model = keras.Sequential(\n",
        "    [\n",
        "        keras.Input(shape=input_shape),\n",
        "        layers.Conv2D(32, kernel_size=(3, 3), activation=\"relu\"),\n",
        "        layers.Conv2D(32, kernel_size=(3, 3), activation=\"relu\"),\n",
        "        layers.MaxPooling2D(pool_size=(2, 2)),\n",
        "        layers.Conv2D(64, kernel_size=(3, 3), activation=\"relu\"),\n",
        "        layers.MaxPooling2D(pool_size=(2, 2)),\n",
        "        layers.Flatten(),\n",
        "        layers.Dropout(0.5),\n",
        "        layers.Dense(num_classes, activation=\"softmax\"),\n",
        "    ]\n",
        ")\n",
        "\n",
        "model.summary()"
      ],
      "execution_count": 10,
      "outputs": [
        {
          "output_type": "stream",
          "text": [
            "Model: \"sequential_1\"\n",
            "_________________________________________________________________\n",
            "Layer (type)                 Output Shape              Param #   \n",
            "=================================================================\n",
            "conv2d_2 (Conv2D)            (None, 26, 26, 32)        320       \n",
            "_________________________________________________________________\n",
            "conv2d_3 (Conv2D)            (None, 24, 24, 32)        9248      \n",
            "_________________________________________________________________\n",
            "max_pooling2d_2 (MaxPooling2 (None, 12, 12, 32)        0         \n",
            "_________________________________________________________________\n",
            "conv2d_4 (Conv2D)            (None, 10, 10, 64)        18496     \n",
            "_________________________________________________________________\n",
            "max_pooling2d_3 (MaxPooling2 (None, 5, 5, 64)          0         \n",
            "_________________________________________________________________\n",
            "flatten_1 (Flatten)          (None, 1600)              0         \n",
            "_________________________________________________________________\n",
            "dropout_1 (Dropout)          (None, 1600)              0         \n",
            "_________________________________________________________________\n",
            "dense_1 (Dense)              (None, 10)                16010     \n",
            "=================================================================\n",
            "Total params: 44,074\n",
            "Trainable params: 44,074\n",
            "Non-trainable params: 0\n",
            "_________________________________________________________________\n"
          ],
          "name": "stdout"
        }
      ]
    },
    {
      "cell_type": "code",
      "metadata": {
        "colab": {
          "base_uri": "https://localhost:8080/"
        },
        "id": "F_hlS0SH5lW-",
        "outputId": "1b6f7542-8de1-4e9a-ec58-ed6b2b3619c1"
      },
      "source": [
        "batch_size = 128\n",
        "epochs = 15\n",
        "\n",
        "model.compile(loss=\"categorical_crossentropy\", optimizer=\"adam\", metrics=[\"accuracy\"])\n",
        "\n",
        "model.fit(x_train, y_train, batch_size=batch_size, epochs=epochs, validation_split=0.1)"
      ],
      "execution_count": 11,
      "outputs": [
        {
          "output_type": "stream",
          "text": [
            "Epoch 1/15\n",
            "422/422 [==============================] - 6s 13ms/step - loss: 0.3217 - accuracy: 0.9000 - val_loss: 0.0620 - val_accuracy: 0.9825\n",
            "Epoch 2/15\n",
            "422/422 [==============================] - 5s 12ms/step - loss: 0.0866 - accuracy: 0.9729 - val_loss: 0.0419 - val_accuracy: 0.9875\n",
            "Epoch 3/15\n",
            "422/422 [==============================] - 5s 12ms/step - loss: 0.0654 - accuracy: 0.9795 - val_loss: 0.0326 - val_accuracy: 0.9907\n",
            "Epoch 4/15\n",
            "422/422 [==============================] - 5s 12ms/step - loss: 0.0536 - accuracy: 0.9828 - val_loss: 0.0313 - val_accuracy: 0.9910\n",
            "Epoch 5/15\n",
            "422/422 [==============================] - 5s 12ms/step - loss: 0.0460 - accuracy: 0.9855 - val_loss: 0.0275 - val_accuracy: 0.9922\n",
            "Epoch 6/15\n",
            "422/422 [==============================] - 5s 12ms/step - loss: 0.0428 - accuracy: 0.9865 - val_loss: 0.0291 - val_accuracy: 0.9922\n",
            "Epoch 7/15\n",
            "422/422 [==============================] - 5s 12ms/step - loss: 0.0381 - accuracy: 0.9879 - val_loss: 0.0272 - val_accuracy: 0.9930\n",
            "Epoch 8/15\n",
            "422/422 [==============================] - 5s 13ms/step - loss: 0.0368 - accuracy: 0.9879 - val_loss: 0.0265 - val_accuracy: 0.9917\n",
            "Epoch 9/15\n",
            "422/422 [==============================] - 5s 13ms/step - loss: 0.0320 - accuracy: 0.9894 - val_loss: 0.0278 - val_accuracy: 0.9927\n",
            "Epoch 10/15\n",
            "422/422 [==============================] - 5s 12ms/step - loss: 0.0306 - accuracy: 0.9899 - val_loss: 0.0233 - val_accuracy: 0.9933\n",
            "Epoch 11/15\n",
            "422/422 [==============================] - 5s 12ms/step - loss: 0.0292 - accuracy: 0.9907 - val_loss: 0.0252 - val_accuracy: 0.9930\n",
            "Epoch 12/15\n",
            "422/422 [==============================] - 5s 12ms/step - loss: 0.0281 - accuracy: 0.9905 - val_loss: 0.0278 - val_accuracy: 0.9922\n",
            "Epoch 13/15\n",
            "422/422 [==============================] - 5s 13ms/step - loss: 0.0256 - accuracy: 0.9914 - val_loss: 0.0249 - val_accuracy: 0.9933\n",
            "Epoch 14/15\n",
            "422/422 [==============================] - 5s 13ms/step - loss: 0.0248 - accuracy: 0.9915 - val_loss: 0.0269 - val_accuracy: 0.9928\n",
            "Epoch 15/15\n",
            "422/422 [==============================] - 5s 12ms/step - loss: 0.0237 - accuracy: 0.9920 - val_loss: 0.0230 - val_accuracy: 0.9940\n"
          ],
          "name": "stdout"
        },
        {
          "output_type": "execute_result",
          "data": {
            "text/plain": [
              "<keras.callbacks.History at 0x7f31a8dbaf10>"
            ]
          },
          "metadata": {},
          "execution_count": 11
        }
      ]
    },
    {
      "cell_type": "code",
      "metadata": {
        "colab": {
          "base_uri": "https://localhost:8080/"
        },
        "id": "ndtrEEPw_j0u",
        "outputId": "3070cc66-ac13-4083-b8b6-a6341a7a7da3"
      },
      "source": [
        "score = model.evaluate(x_test, y_test, verbose=0)\n",
        "print(\"Test loss:\", score[0])\n",
        "print(\"Test accuracy:\", score[1])"
      ],
      "execution_count": 12,
      "outputs": [
        {
          "output_type": "stream",
          "text": [
            "Test loss: 0.01996663585305214\n",
            "Test accuracy: 0.9926999807357788\n"
          ],
          "name": "stdout"
        }
      ]
    }
  ]
}